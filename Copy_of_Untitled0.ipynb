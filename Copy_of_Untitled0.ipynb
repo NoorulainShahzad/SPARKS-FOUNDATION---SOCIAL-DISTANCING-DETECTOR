{
  "nbformat": 4,
  "nbformat_minor": 0,
  "metadata": {
    "colab": {
      "name": "Copy of Untitled0.ipynb",
      "provenance": [],
      "collapsed_sections": [],
      "authorship_tag": "ABX9TyM/9bCRtjHbOtXuxLqW/tzP",
      "include_colab_link": true
    },
    "kernelspec": {
      "display_name": "Python 3",
      "name": "python3"
    },
    "language_info": {
      "name": "python"
    }
  },
  "cells": [
    {
      "cell_type": "markdown",
      "metadata": {
        "id": "view-in-github",
        "colab_type": "text"
      },
      "source": [
        "<a href=\"https://colab.research.google.com/github/NoorulainShahzad/SPARKS-FOUNDATION---SOCIAL-DISTANCING-DETECTOR/blob/main/Copy_of_Untitled0.ipynb\" target=\"_parent\"><img src=\"https://colab.research.google.com/assets/colab-badge.svg\" alt=\"Open In Colab\"/></a>"
      ]
    },
    {
      "cell_type": "code",
      "metadata": {
        "id": "-Y4pD43vV-4x"
      },
      "source": [
        "MIN_CONF = 0.3\n",
        "NMS_THRESH = 0.3\n",
        "MIN_DISTANCE = 50"
      ],
      "execution_count": null,
      "outputs": []
    },
    {
      "cell_type": "code",
      "metadata": {
        "id": "bfO1ZBpIWGvC"
      },
      "source": [
        "import numpy as np\n",
        "import cv2\n",
        "\n",
        "def detect_people(frame, net, ln, personIdx=0):\n",
        "    (H, W) = frame.shape[:2]\n",
        "    results = []\n",
        "    \n",
        "    blob = cv2.dnn.blobFromImage(frame, 1/255.0, (416,416),swapRB=True, crop=False)\n",
        "    net.setInput(blob)\n",
        "    layerOutputs = net.forward(ln)\n",
        "    \n",
        "    boxes = []\n",
        "    centroids = []\n",
        "    confidences = []\n",
        "    \n",
        "    for output in layerOutputs:\n",
        "        for detection in output:\n",
        "            scores = detection[5:]\n",
        "            classID = np.argmax(scores)\n",
        "            confidence = scores[classID]\n",
        "            \n",
        "            if classID == personIdx and confidence > MIN_CONF:\n",
        "                box = detection[0:4] * np.array([W, H, W, H])\n",
        "                (centerX, centerY, width, height)= box.astype(\"int\")\n",
        "                \n",
        "                x = int(centerX - (width / 2))\n",
        "                y = int(centerY - (height / 2))\n",
        "                \n",
        "                boxes.append([x, y, int(width), int(height)])\n",
        "                centroids.append((centerX, centerY))\n",
        "                confidences.append(float(confidence))\n",
        "    \n",
        "    idxs = cv2.dnn.NMSBoxes(boxes, confidences, MIN_CONF, NMS_THRESH)\n",
        "    if len(idxs) > 0:\n",
        "        for i in idxs.flatten():\n",
        "            (x,y) = (boxes[i][0], boxes[i][1])\n",
        "            (w,h) = (boxes[i][2], boxes[i][3])\n",
        "            r = (confidences[i], (x, y, x+w, y+h), centroids[i])\n",
        "            results.append(r)\n",
        "    return results\n"
      ],
      "execution_count": null,
      "outputs": []
    },
    {
      "cell_type": "code",
      "metadata": {
        "id": "gH7tHdiKWMTy"
      },
      "source": [
        "from google.colab.patches import cv2_imshow\n",
        "from scipy.spatial import distance as dist\n",
        "import numpy as np\n",
        "import argparse\n",
        "import cv2\n",
        "import os"
      ],
      "execution_count": null,
      "outputs": []
    },
    {
      "cell_type": "code",
      "metadata": {
        "colab": {
          "base_uri": "https://localhost:8080/"
        },
        "id": "JMNYsaL7WQXW",
        "outputId": "6deed850-9964-439d-886e-bf8348cc7221"
      },
      "source": [
        "ap = argparse.ArgumentParser()\n",
        "ap.add_argument(\"-i\", \"--input\", type=str, default=\"\", help=\"path to (optional) input video file\")\n",
        "ap.add_argument(\"-o\", \"--output\", type=str, default=\"\", help=\"path to (optional) output video file\")\n",
        "ap.add_argument(\"-d\", \"--display\", type=int, default=1, help=\"whether or not output frame should be displayed\")\n",
        "args = vars(ap.parse_args([\"--input\",\"/content/drive/My Drive/Colab Notebooks/pedestrians.mp4\", \"--output\", \"my_output.avi\", \"--display\", \"1\"]))\n",
        "labelsPath = os.path.sep.join([\"/content/drive/My Drive/Colab Notebooks/coco.names\"])\n",
        "LABELS = open(labelsPath).read().strip().split(\"\\n\")\n",
        "\n",
        "weightsPath = os.path.sep.join([\"/content/drive/My Drive/Colab Notebooks/yolov3.weights\"])\n",
        "configPath = os.path.sep.join([\"/content/drive/My Drive/Colab Notebooks/yolov3.cfg\"])\n",
        "\n",
        "print(\"[INFO] loading YOLO from Disk...\")\n",
        "net = cv2.dnn.readNetFromDarknet(configPath, weightsPath)\n",
        "\n",
        "ln = net.getLayerNames()\n",
        "ln = [ln[i[0] - 1] for i in net.getUnconnectedOutLayers()]\n",
        "\n",
        "print(\"[INFO] accessing video stream...\")\n",
        "vs = cv2.VideoCapture(args[\"input\"] if args[\"input\"] else 0)\n",
        "writer = None"
      ],
      "execution_count": null,
      "outputs": [
        {
          "output_type": "stream",
          "text": [
            "[INFO] loading YOLO from Disk...\n",
            "[INFO] accessing video stream...\n"
          ],
          "name": "stdout"
        }
      ]
    },
    {
      "cell_type": "code",
      "metadata": {
        "colab": {
          "background_save": true,
          "base_uri": "https://localhost:8080/",
          "height": 1000
        },
        "id": "gOXHUYGxPUgq",
        "outputId": "532bb96d-607d-40c5-9cc3-dc06e35a4c4e"
      },
      "source": [
        "import imutils\n",
        "while True:\n",
        "  (grabbed, frame) = vs.read()\n",
        "\n",
        "  if not grabbed:\n",
        "    break\n",
        "  \n",
        "  frame = imutils.resize(frame, width=700)\n",
        "  results = detect_people(frame, net, ln, personIdx = LABELS.index(\"person\"))\n",
        "\n",
        "  violate = set()\n",
        "  \n",
        "  if len(results) >=2:\n",
        "    centroids = np.array([r[2] for r in results])\n",
        "    D = dist.cdist(centroids, centroids, metric = \"euclidean\")\n",
        "\n",
        "    for i in range(0, D.shape[0]):\n",
        "      for j in range(i + 1, D.shape[1]):\n",
        "        if D[i, j] < MIN_DISTANCE:\n",
        "          violate.add(i)\n",
        "          violate.add(j)\n",
        "    \n",
        "  \n",
        "  for (i, (prob, bbox, centroid)) in enumerate(results):\n",
        "    (startX, startY, endX, endY) = bbox\n",
        "    (cX, cY) = centroid\n",
        "    color = (0, 255, 0)\n",
        "\n",
        "    if i in violate:\n",
        "      color = (0, 0, 255)\n",
        "\n",
        "    cv2.rectangle(frame, (startX, startY), (endX, endY), color, 2)\n",
        "    cv2.circle(frame, (cX, cY), 5, color, 1)\n",
        "  \n",
        "  text = \"Social Distancing Violations: {}\".format(len(violate))\n",
        "  cv2.putText(frame, text, (10, frame.shape[0] - 25), cv2.FONT_HERSHEY_SIMPLEX, 0.85, (0, 0, 255), 3)\n",
        "\n",
        "  if args[\"display\"] > 0:\n",
        "    cv2_imshow(frame)\n",
        "    key = cv2.waitKey(1) & 0xFF\n",
        "\n",
        "    if key == ord(\"q\"):\n",
        "      break\n",
        "    \n",
        "    if args[\"output\"] != \"\" and writer is None:\n",
        "      fourcc = cv2.VideoWriter_fourcc(*\"MJPG\")\n",
        "      writer = cv2.VideoWriter(args[\"output\"], fourcc, 25, (frame.shape[1], frame.shape[0]), True)\n",
        "    \n",
        "    if writer is not None:\n",
        "      writer.write(frame)"
      ],
      "execution_count": null,
      "outputs": []
    },
    {
      "cell_type": "code",
      "metadata": {
        "colab": {
          "base_uri": "https://localhost:8080/"
        },
        "id": "MnP-ocvM-Tev",
        "outputId": "7b033513-dbcc-4fdb-b666-d88b00875603"
      },
      "source": [
        "from google.colab import drive\n",
        "drive.mount('drive')"
      ],
      "execution_count": null,
      "outputs": [
        {
          "output_type": "stream",
          "text": [
            "Mounted at drive\n"
          ],
          "name": "stdout"
        }
      ]
    }
  ]
}